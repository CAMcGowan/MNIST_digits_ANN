{
 "cells": [
  {
   "cell_type": "code",
   "execution_count": 1,
   "id": "impossible-charger",
   "metadata": {},
   "outputs": [],
   "source": [
    "import tensorflow as tf\n",
    "from tensorflow import keras\n",
    "import pandas as pd\n",
    "import numpy as np\n",
    "import matplotlib.pyplot as plt\n",
    "import os\n",
    "import time"
   ]
  },
  {
   "cell_type": "markdown",
   "id": "normal-future",
   "metadata": {},
   "source": [
    "## Load and inspect data"
   ]
  },
  {
   "cell_type": "code",
   "execution_count": 2,
   "id": "interior-infection",
   "metadata": {},
   "outputs": [
    {
     "name": "stdout",
     "output_type": "stream",
     "text": [
      "X_train shape: (60000, 28, 28)\n",
      "X_train dtype: uint8\n",
      "X_train max: 255 \n",
      "X_train min: 0\n"
     ]
    }
   ],
   "source": [
    "mnist = keras.datasets.mnist\n",
    "(X_train_full, y_train_full), (X_test, y_test) = mnist.load_data()\n",
    "print('X_train shape:', X_train_full.shape)\n",
    "print('X_train dtype:', X_train_full.dtype)\n",
    "print('X_train max:', X_train_full.max(), '\\nX_train min:', X_train_full.min())"
   ]
  },
  {
   "cell_type": "code",
   "execution_count": 3,
   "id": "biological-capitol",
   "metadata": {},
   "outputs": [
    {
     "data": {
      "image/png": "[encoded data removed]",
      "text/plain": [
       "<Figure size 518.4x172.8 with 9 Axes>"
      ]
     },
     "metadata": {
      "needs_background": "light"
     },
     "output_type": "display_data"
    },
    {
     "name": "stdout",
     "output_type": "stream",
     "text": [
      "y values: [5 0 4 1 9 2 1 3 1]\n"
     ]
    }
   ],
   "source": [
    "X_new = X_train_full[:9]\n",
    "# Image representations of first 9 digits\n",
    "plt.figure(figsize=(7.2, 2.4))\n",
    "for index, image in enumerate(X_new):\n",
    "    plt.subplot(3, 3, index + 1)\n",
    "    plt.imshow(image, cmap=\"binary\", interpolation=\"nearest\")\n",
    "    plt.axis('off')\n",
    "plt.subplots_adjust(wspace=0.2, hspace=0.5)\n",
    "plt.show()\n",
    "\n",
    "# Corrosponding y vals\n",
    "print('y values:',y_train_full[:9])"
   ]
  },
  {
   "cell_type": "code",
   "execution_count": 4,
   "id": "roman-twelve",
   "metadata": {},
   "outputs": [],
   "source": [
    "# Define the classes\n",
    "class_names = ['0', '1', '2', '3', '4', '5', '6', '7', '8', '9']\n",
    "\n",
    "# Split train and valid\n",
    "X_valid, X_train = X_train_full[:5000]/255, X_train_full[5000:]/255\n",
    "y_valid, y_train = y_train_full[:5000], y_train_full[5000:]\n",
    "X_test = X_test/255"
   ]
  },
  {
   "cell_type": "markdown",
   "id": "assisted-testimony",
   "metadata": {},
   "source": [
    "## Model"
   ]
  },
  {
   "cell_type": "code",
   "execution_count": 5,
   "id": "ultimate-secretariat",
   "metadata": {},
   "outputs": [
    {
     "name": "stdout",
     "output_type": "stream",
     "text": [
      "Model: \"sequential\"\n",
      "_________________________________________________________________\n",
      "Layer (type)                 Output Shape              Param #   \n",
      "=================================================================\n",
      "flatten (Flatten)            (None, 784)               0         \n",
      "_________________________________________________________________\n",
      "dense (Dense)                (None, 300)               235500    \n",
      "_________________________________________________________________\n",
      "batch_normalization (BatchNo (None, 300)               1200      \n",
      "_________________________________________________________________\n",
      "dense_1 (Dense)              (None, 300)               90300     \n",
      "_________________________________________________________________\n",
      "batch_normalization_1 (Batch (None, 300)               1200      \n",
      "_________________________________________________________________\n",
      "dense_2 (Dense)              (None, 10)                3010      \n",
      "=================================================================\n",
      "Total params: 331,210\n",
      "Trainable params: 330,010\n",
      "Non-trainable params: 1,200\n",
      "_________________________________________________________________\n"
     ]
    }
   ],
   "source": [
    "# Create a sequenial model\n",
    "model = keras.models.Sequential([\n",
    "    # Input layer\n",
    "    keras.layers.Flatten(input_shape=[28,28]),\n",
    "    # Hidden layers\n",
    "    keras.layers.Dense(300, activation='relu'),\n",
    "    keras.layers.BatchNormalization(),\n",
    "    keras.layers.Dense(300, activation='relu'),\n",
    "    keras.layers.BatchNormalization(),\n",
    "    # Output layer\n",
    "    keras.layers.Dense(10, activation='softmax')\n",
    "    ])\n",
    "model.summary()   "
   ]
  },
  {
   "cell_type": "code",
   "execution_count": 6,
   "id": "olive-hormone",
   "metadata": {},
   "outputs": [],
   "source": [
    "# Compile\n",
    "model.compile(loss='sparse_categorical_crossentropy',\n",
    "              optimizer=keras.optimizers.SGD(lr=0.01, momentum = 0.9, decay=1e-4),\n",
    "              metrics='accuracy')"
   ]
  },
  {
   "cell_type": "code",
   "execution_count": 7,
   "id": "imported-brother",
   "metadata": {
    "scrolled": false
   },
   "outputs": [
    {
     "name": "stdout",
     "output_type": "stream",
     "text": [
      "Epoch 1/50\n",
      "1719/1719 [==============================] - 21s 11ms/step - loss: 0.3392 - accuracy: 0.8947 - val_loss: 0.0994 - val_accuracy: 0.9708\n",
      "Epoch 2/50\n",
      "1719/1719 [==============================] - 18s 11ms/step - loss: 0.0977 - accuracy: 0.9701 - val_loss: 0.0864 - val_accuracy: 0.9720\n",
      "Epoch 3/50\n",
      "1719/1719 [==============================] - 18s 11ms/step - loss: 0.0639 - accuracy: 0.9808 - val_loss: 0.0663 - val_accuracy: 0.9798\n",
      "Epoch 4/50\n",
      "1719/1719 [==============================] - 18s 10ms/step - loss: 0.0451 - accuracy: 0.9856 - val_loss: 0.0740 - val_accuracy: 0.9798\n",
      "Epoch 5/50\n",
      "1719/1719 [==============================] - 18s 10ms/step - loss: 0.0355 - accuracy: 0.9877 - val_loss: 0.0656 - val_accuracy: 0.9812\n",
      "Epoch 6/50\n",
      "1719/1719 [==============================] - 18s 10ms/step - loss: 0.0287 - accuracy: 0.9910 - val_loss: 0.0585 - val_accuracy: 0.9842\n",
      "Epoch 7/50\n",
      "1719/1719 [==============================] - 18s 10ms/step - loss: 0.0214 - accuracy: 0.9934 - val_loss: 0.0620 - val_accuracy: 0.9832\n",
      "Epoch 8/50\n",
      "1719/1719 [==============================] - 18s 10ms/step - loss: 0.0162 - accuracy: 0.9954 - val_loss: 0.0565 - val_accuracy: 0.9834\n",
      "Epoch 9/50\n",
      "1719/1719 [==============================] - 18s 10ms/step - loss: 0.0142 - accuracy: 0.9959 - val_loss: 0.0567 - val_accuracy: 0.9838\n",
      "Epoch 10/50\n",
      "1719/1719 [==============================] - 18s 10ms/step - loss: 0.0136 - accuracy: 0.9963 - val_loss: 0.0553 - val_accuracy: 0.9836\n",
      "Epoch 11/50\n",
      "1719/1719 [==============================] - 18s 10ms/step - loss: 0.0099 - accuracy: 0.9973 - val_loss: 0.0557 - val_accuracy: 0.9852\n",
      "Epoch 12/50\n",
      "1719/1719 [==============================] - 18s 10ms/step - loss: 0.0104 - accuracy: 0.9973 - val_loss: 0.0563 - val_accuracy: 0.9842\n",
      "Epoch 13/50\n",
      "1719/1719 [==============================] - 18s 10ms/step - loss: 0.0076 - accuracy: 0.9983 - val_loss: 0.0555 - val_accuracy: 0.9842\n",
      "Epoch 14/50\n",
      "1719/1719 [==============================] - 18s 10ms/step - loss: 0.0068 - accuracy: 0.9984 - val_loss: 0.0569 - val_accuracy: 0.9844\n",
      "Epoch 15/50\n",
      "1719/1719 [==============================] - 18s 10ms/step - loss: 0.0058 - accuracy: 0.9987 - val_loss: 0.0543 - val_accuracy: 0.9846\n",
      "Epoch 16/50\n",
      "1719/1719 [==============================] - 18s 10ms/step - loss: 0.0051 - accuracy: 0.9989 - val_loss: 0.0545 - val_accuracy: 0.9860\n",
      "Epoch 17/50\n",
      "1719/1719 [==============================] - 18s 11ms/step - loss: 0.0052 - accuracy: 0.9987 - val_loss: 0.0543 - val_accuracy: 0.9862\n",
      "Epoch 18/50\n",
      "1719/1719 [==============================] - 18s 11ms/step - loss: 0.0049 - accuracy: 0.9990 - val_loss: 0.0529 - val_accuracy: 0.9860\n",
      "Epoch 19/50\n",
      "1719/1719 [==============================] - 19s 11ms/step - loss: 0.0037 - accuracy: 0.9995 - val_loss: 0.0566 - val_accuracy: 0.9840\n",
      "Epoch 20/50\n",
      "1719/1719 [==============================] - 19s 11ms/step - loss: 0.0038 - accuracy: 0.9993 - val_loss: 0.0546 - val_accuracy: 0.9866\n",
      "Epoch 21/50\n",
      "1719/1719 [==============================] - 19s 11ms/step - loss: 0.0034 - accuracy: 0.9995 - val_loss: 0.0550 - val_accuracy: 0.9852\n",
      "Epoch 22/50\n",
      "1719/1719 [==============================] - 19s 11ms/step - loss: 0.0037 - accuracy: 0.9993 - val_loss: 0.0554 - val_accuracy: 0.9858\n",
      "Epoch 23/50\n",
      "1719/1719 [==============================] - 19s 11ms/step - loss: 0.0035 - accuracy: 0.9994 - val_loss: 0.0545 - val_accuracy: 0.9848\n"
     ]
    }
   ],
   "source": [
    "# Create logs\n",
    "root_logdir = os.path.join(os.curdir+'mnist_logs')\n",
    "def get_run_log():\n",
    "    import time\n",
    "    run_id = time.strftime('run_%Y_%m_%d_%H_%M_%S')\n",
    "    return os.path.join(root_logdir, run_id)\n",
    "# Tensorboard \n",
    "runlog_dir = get_run_log()\n",
    "tensorboard_cb = keras.callbacks.TensorBoard(runlog_dir)\n",
    "# Save by step and introduce early stopping\n",
    "checkpoint_cb = keras.callbacks.ModelCheckpoint('models/checkpoint_model.h5',\n",
    "                                                save_best_only=True)\n",
    "early_stopping_cb = keras.callbacks.EarlyStopping(patience=5,\n",
    "                                                  restore_best_weights=True)\n",
    "history = model.fit(X_train, y_train, epochs=50,\n",
    "                    validation_data=(X_valid, y_valid),\n",
    "                    callbacks=[tensorboard_cb, checkpoint_cb, early_stopping_cb])"
   ]
  },
  {
   "cell_type": "code",
   "execution_count": 8,
   "id": "extra-reward",
   "metadata": {},
   "outputs": [
    {
     "data": {
      "image/png": "[encoded data removed]",
      "text/plain": [
       "<Figure size 576x360 with 1 Axes>"
      ]
     },
     "metadata": {
      "needs_background": "light"
     },
     "output_type": "display_data"
    }
   ],
   "source": [
    "# Plot history\n",
    "pd.DataFrame(history.history).plot(figsize=(8, 5))\n",
    "plt.grid()\n",
    "plt.gca().set_ylim(0,1)\n",
    "plt.show()"
   ]
  },
  {
   "cell_type": "code",
   "execution_count": 9,
   "id": "precious-image",
   "metadata": {},
   "outputs": [
    {
     "name": "stdout",
     "output_type": "stream",
     "text": [
      "313/313 [==============================] - 1s 5ms/step - loss: 0.0596 - accuracy: 0.9830\n"
     ]
    },
    {
     "data": {
      "text/plain": [
       "[0.05959627032279968, 0.9829999804496765]"
      ]
     },
     "execution_count": 9,
     "metadata": {},
     "output_type": "execute_result"
    }
   ],
   "source": [
    "model.evaluate(X_test, y_test)"
   ]
  },
  {
   "cell_type": "code",
   "execution_count": 10,
   "id": "composite-platform",
   "metadata": {},
   "outputs": [
    {
     "data": {
      "text/plain": [
       "array([[0., 0., 0., 0., 0., 0., 0., 1., 0., 0.],\n",
       "       [0., 0., 1., 0., 0., 0., 0., 0., 0., 0.],\n",
       "       [0., 1., 0., 0., 0., 0., 0., 0., 0., 0.]], dtype=float32)"
      ]
     },
     "execution_count": 10,
     "metadata": {},
     "output_type": "execute_result"
    }
   ],
   "source": [
    "X_sample = X_test[:3]\n",
    "y_prob = model.predict(X_sample)\n",
    "y_prob.round(2)"
   ]
  },
  {
   "cell_type": "code",
   "execution_count": 11,
   "id": "informal-promise",
   "metadata": {},
   "outputs": [
    {
     "data": {
      "text/plain": [
       "array([7, 2, 1], dtype=int64)"
      ]
     },
     "execution_count": 11,
     "metadata": {},
     "output_type": "execute_result"
    }
   ],
   "source": [
    "y_pred = np.argmax(model.predict(X_sample), axis=-1)\n",
    "y_pred"
   ]
  },
  {
   "cell_type": "code",
   "execution_count": 12,
   "id": "tough-connecticut",
   "metadata": {},
   "outputs": [
    {
     "data": {
      "image/png": "[encoded data removed]",
      "text/plain": [
       "<Figure size 518.4x172.8 with 3 Axes>"
      ]
     },
     "metadata": {
      "needs_background": "light"
     },
     "output_type": "display_data"
    }
   ],
   "source": [
    "plt.figure(figsize=(7.2, 2.4))\n",
    "for index, image in enumerate(X_sample):\n",
    "    plt.subplot(1, 3, index + 1)\n",
    "    plt.imshow(image, cmap=\"binary\", interpolation=\"nearest\")\n",
    "    plt.axis('off')\n",
    "    plt.title(class_names[y_test[index]], fontsize=12)\n",
    "plt.subplots_adjust(wspace=0.2, hspace=0.5)\n",
    "plt.show()"
   ]
  },
  {
   "cell_type": "code",
   "execution_count": 13,
   "id": "opponent-satisfaction",
   "metadata": {},
   "outputs": [],
   "source": [
    "model.save('models/98%.h5')"
   ]
  },
  {
   "cell_type": "code",
   "execution_count": null,
   "id": "alien-methodology",
   "metadata": {},
   "outputs": [],
   "source": []
  }
 ],
 "metadata": {
  "kernelspec": {
   "display_name": "Python 3",
   "language": "python",
   "name": "python3"
  },
  "language_info": {
   "codemirror_mode": {
    "name": "ipython",
    "version": 3
   },
   "file_extension": ".py",
   "mimetype": "text/x-python",
   "name": "python",
   "nbconvert_exporter": "python",
   "pygments_lexer": "ipython3",
   "version": "3.7.1"
  }
 },
 "nbformat": 4,
 "nbformat_minor": 5
}
