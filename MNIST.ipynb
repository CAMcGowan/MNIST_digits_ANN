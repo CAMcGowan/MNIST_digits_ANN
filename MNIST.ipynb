{
 "cells": [
  {
   "cell_type": "code",
   "execution_count": 1,
   "id": "impossible-charger",
   "metadata": {},
   "outputs": [],
   "source": [
    "import tensorflow as tf\n",
    "from tensorflow import keras\n",
    "import pandas as pd\n",
    "import numpy as np\n",
    "import matplotlib.pyplot as plt\n",
    "import os\n",
    "import time"
   ]
  },
  {
   "cell_type": "markdown",
   "id": "normal-future",
   "metadata": {},
   "source": [
    "## Load and inspect data"
   ]
  },
  {
   "cell_type": "code",
   "execution_count": 2,
   "id": "interior-infection",
   "metadata": {},
   "outputs": [
    {
     "name": "stdout",
     "output_type": "stream",
     "text": [
      "X_train shape: (60000, 28, 28)\n",
      "X_train dtype: uint8\n",
      "X_train max: 255 \n",
      "X_train min: 0\n"
     ]
    }
   ],
   "source": [
    "mnist = keras.datasets.mnist\n",
    "(X_train_full, y_train_full), (X_test, y_test) = mnist.load_data()\n",
    "print('X_train shape:', X_train_full.shape)\n",
    "print('X_train dtype:', X_train_full.dtype)\n",
    "print('X_train max:', X_train_full.max(), '\\nX_train min:', X_train_full.min())"
   ]
  },
  {
   "cell_type": "code",
   "execution_count": 3,
   "id": "biological-capitol",
   "metadata": {},
   "outputs": [
    {
     "data": {
      "image/png": "[encoded data removed]",
      "text/plain": [
       "<Figure size 518.4x172.8 with 9 Axes>"
      ]
     },
     "metadata": {
      "needs_background": "light"
     },
     "output_type": "display_data"
    },
    {
     "name": "stdout",
     "output_type": "stream",
     "text": [
      "y values: [5 0 4 1 9 2 1 3 1]\n"
     ]
    }
   ],
   "source": [
    "X_new = X_train_full[:9]\n",
    "# Image representations of first 9 digits\n",
    "plt.figure(figsize=(7.2, 2.4))\n",
    "for index, image in enumerate(X_new):\n",
    "    plt.subplot(3, 3, index + 1)\n",
    "    plt.imshow(image, cmap=\"binary\", interpolation=\"nearest\")\n",
    "    plt.axis('off')\n",
    "plt.subplots_adjust(wspace=0.2, hspace=0.5)\n",
    "plt.show()\n",
    "\n",
    "# Corrosponding y vals\n",
    "print('y values:',y_train_full[:9])"
   ]
  },
  {
   "cell_type": "code",
   "execution_count": 4,
   "id": "roman-twelve",
   "metadata": {},
   "outputs": [],
   "source": [
    "# Define the classes\n",
    "class_names = ['0', '1', '2', '3', '4', '5', '6', '7', '8', '9']\n",
    "\n",
    "# Split train and valid\n",
    "X_valid, X_train = X_train_full[:5000]/255, X_train_full[5000:]/255\n",
    "y_valid, y_train = y_train_full[:5000], y_train_full[5000:]\n",
    "X_test = X_test/255"
   ]
  },
  {
   "cell_type": "markdown",
   "id": "assisted-testimony",
   "metadata": {},
   "source": [
    "## Model"
   ]
  },
  {
   "cell_type": "code",
   "execution_count": 5,
   "id": "ultimate-secretariat",
   "metadata": {},
   "outputs": [
    {
     "name": "stdout",
     "output_type": "stream",
     "text": [
      "Model: \"sequential\"\n",
      "_________________________________________________________________\n",
      "Layer (type)                 Output Shape              Param #   \n",
      "=================================================================\n",
      "flatten (Flatten)            (None, 784)               0         \n",
      "_________________________________________________________________\n",
      "dense (Dense)                (None, 300)               235500    \n",
      "_________________________________________________________________\n",
      "dense_1 (Dense)              (None, 300)               90300     \n",
      "_________________________________________________________________\n",
      "dense_2 (Dense)              (None, 10)                3010      \n",
      "=================================================================\n",
      "Total params: 328,810\n",
      "Trainable params: 328,810\n",
      "Non-trainable params: 0\n",
      "_________________________________________________________________\n"
     ]
    }
   ],
   "source": [
    "# Create a sequenial model\n",
    "model = keras.models.Sequential([\n",
    "    # Input layer\n",
    "    keras.layers.Flatten(input_shape=[28,28]),\n",
    "    # Hidden layers\n",
    "    keras.layers.Dense(300, activation='relu'),\n",
    "    keras.layers.Dense(300, activation='relu'),\n",
    "    # Output layer\n",
    "    keras.layers.Dense(10, activation='softmax')\n",
    "    ])\n",
    "model.summary()   "
   ]
  },
  {
   "cell_type": "code",
   "execution_count": 6,
   "id": "olive-hormone",
   "metadata": {},
   "outputs": [],
   "source": [
    "# Compile\n",
    "model.compile(loss='sparse_categorical_crossentropy',\n",
    "              optimizer='sgd',\n",
    "              metrics='accuracy')"
   ]
  },
  {
   "cell_type": "code",
   "execution_count": 8,
   "id": "imported-brother",
   "metadata": {
    "scrolled": false
   },
   "outputs": [
    {
     "name": "stdout",
     "output_type": "stream",
     "text": [
      "Epoch 1/50\n",
      "1719/1719 [==============================] - 10s 6ms/step - loss: 1.0674 - accuracy: 0.7287 - val_loss: 0.3148 - val_accuracy: 0.9150\n",
      "Epoch 2/50\n",
      "1719/1719 [==============================] - 9s 5ms/step - loss: 0.3088 - accuracy: 0.9131 - val_loss: 0.2469 - val_accuracy: 0.9338\n",
      "Epoch 3/50\n",
      "1719/1719 [==============================] - 9s 5ms/step - loss: 0.2506 - accuracy: 0.9282 - val_loss: 0.2166 - val_accuracy: 0.9384\n",
      "Epoch 4/50\n",
      "1719/1719 [==============================] - 9s 5ms/step - loss: 0.2174 - accuracy: 0.9382 - val_loss: 0.1849 - val_accuracy: 0.9484\n",
      "Epoch 5/50\n",
      "1719/1719 [==============================] - 9s 5ms/step - loss: 0.1886 - accuracy: 0.9458 - val_loss: 0.1668 - val_accuracy: 0.9550\n",
      "Epoch 6/50\n",
      "1719/1719 [==============================] - 9s 5ms/step - loss: 0.1696 - accuracy: 0.9516 - val_loss: 0.1543 - val_accuracy: 0.9600\n",
      "Epoch 7/50\n",
      "1719/1719 [==============================] - 9s 5ms/step - loss: 0.1475 - accuracy: 0.9573 - val_loss: 0.1377 - val_accuracy: 0.9620\n",
      "Epoch 8/50\n",
      "1719/1719 [==============================] - 9s 5ms/step - loss: 0.1353 - accuracy: 0.9614 - val_loss: 0.1261 - val_accuracy: 0.9648\n",
      "Epoch 9/50\n",
      "1719/1719 [==============================] - 9s 6ms/step - loss: 0.1224 - accuracy: 0.9651 - val_loss: 0.1187 - val_accuracy: 0.9670\n",
      "Epoch 10/50\n",
      "1719/1719 [==============================] - 9s 5ms/step - loss: 0.1072 - accuracy: 0.9705 - val_loss: 0.1132 - val_accuracy: 0.9702\n",
      "Epoch 11/50\n",
      "1719/1719 [==============================] - 9s 5ms/step - loss: 0.1012 - accuracy: 0.9720 - val_loss: 0.1079 - val_accuracy: 0.9702\n",
      "Epoch 12/50\n",
      "1719/1719 [==============================] - 9s 5ms/step - loss: 0.0959 - accuracy: 0.9722 - val_loss: 0.0997 - val_accuracy: 0.9728\n",
      "Epoch 13/50\n",
      "1719/1719 [==============================] - 9s 5ms/step - loss: 0.0894 - accuracy: 0.9749 - val_loss: 0.0975 - val_accuracy: 0.9728\n",
      "Epoch 14/50\n",
      "1719/1719 [==============================] - 9s 5ms/step - loss: 0.0820 - accuracy: 0.9763 - val_loss: 0.0939 - val_accuracy: 0.9748\n",
      "Epoch 15/50\n",
      "1719/1719 [==============================] - 9s 5ms/step - loss: 0.0747 - accuracy: 0.9792 - val_loss: 0.0908 - val_accuracy: 0.9756\n",
      "Epoch 16/50\n",
      "1719/1719 [==============================] - 9s 5ms/step - loss: 0.0716 - accuracy: 0.9801 - val_loss: 0.0857 - val_accuracy: 0.9780\n",
      "Epoch 17/50\n",
      "1719/1719 [==============================] - 9s 5ms/step - loss: 0.0645 - accuracy: 0.9827 - val_loss: 0.0842 - val_accuracy: 0.9774\n",
      "Epoch 18/50\n",
      "1719/1719 [==============================] - 9s 5ms/step - loss: 0.0603 - accuracy: 0.9837 - val_loss: 0.0806 - val_accuracy: 0.9782\n",
      "Epoch 19/50\n",
      "1719/1719 [==============================] - 9s 5ms/step - loss: 0.0561 - accuracy: 0.9849 - val_loss: 0.0804 - val_accuracy: 0.9770\n",
      "Epoch 20/50\n",
      "1719/1719 [==============================] - 9s 5ms/step - loss: 0.0531 - accuracy: 0.9854 - val_loss: 0.0773 - val_accuracy: 0.9788\n",
      "Epoch 21/50\n",
      "1719/1719 [==============================] - 9s 5ms/step - loss: 0.0490 - accuracy: 0.9865 - val_loss: 0.0771 - val_accuracy: 0.9778\n",
      "Epoch 22/50\n",
      "1719/1719 [==============================] - 9s 5ms/step - loss: 0.0475 - accuracy: 0.9883 - val_loss: 0.0761 - val_accuracy: 0.9786\n",
      "Epoch 23/50\n",
      "1719/1719 [==============================] - 9s 5ms/step - loss: 0.0464 - accuracy: 0.9877 - val_loss: 0.0752 - val_accuracy: 0.9794\n",
      "Epoch 24/50\n",
      "1719/1719 [==============================] - 9s 5ms/step - loss: 0.0427 - accuracy: 0.9893 - val_loss: 0.0732 - val_accuracy: 0.9806\n",
      "Epoch 25/50\n",
      "1719/1719 [==============================] - 9s 5ms/step - loss: 0.0397 - accuracy: 0.9904 - val_loss: 0.0713 - val_accuracy: 0.9816\n",
      "Epoch 26/50\n",
      "1719/1719 [==============================] - 9s 5ms/step - loss: 0.0364 - accuracy: 0.9912 - val_loss: 0.0727 - val_accuracy: 0.9784\n",
      "Epoch 27/50\n",
      "1719/1719 [==============================] - 9s 5ms/step - loss: 0.0340 - accuracy: 0.9916 - val_loss: 0.0702 - val_accuracy: 0.9804\n",
      "Epoch 28/50\n",
      "1719/1719 [==============================] - 9s 5ms/step - loss: 0.0314 - accuracy: 0.9929 - val_loss: 0.0719 - val_accuracy: 0.9802\n",
      "Epoch 29/50\n",
      "1719/1719 [==============================] - 10s 6ms/step - loss: 0.0306 - accuracy: 0.9923 - val_loss: 0.0752 - val_accuracy: 0.9792\n",
      "Epoch 30/50\n",
      "1719/1719 [==============================] - 10s 6ms/step - loss: 0.0280 - accuracy: 0.9934 - val_loss: 0.0706 - val_accuracy: 0.9810\n",
      "Epoch 31/50\n",
      "1719/1719 [==============================] - 9s 5ms/step - loss: 0.0277 - accuracy: 0.9939 - val_loss: 0.0703 - val_accuracy: 0.9810\n",
      "Epoch 32/50\n",
      "1719/1719 [==============================] - 9s 5ms/step - loss: 0.0262 - accuracy: 0.9942 - val_loss: 0.0682 - val_accuracy: 0.9822\n",
      "Epoch 33/50\n",
      "1719/1719 [==============================] - 9s 5ms/step - loss: 0.0241 - accuracy: 0.9952 - val_loss: 0.0696 - val_accuracy: 0.9808\n",
      "Epoch 34/50\n",
      "1719/1719 [==============================] - 9s 5ms/step - loss: 0.0227 - accuracy: 0.9953 - val_loss: 0.0679 - val_accuracy: 0.9824\n",
      "Epoch 35/50\n",
      "1719/1719 [==============================] - 9s 5ms/step - loss: 0.0215 - accuracy: 0.9957 - val_loss: 0.0674 - val_accuracy: 0.9818\n",
      "Epoch 36/50\n",
      "1719/1719 [==============================] - 9s 5ms/step - loss: 0.0210 - accuracy: 0.9964 - val_loss: 0.0690 - val_accuracy: 0.9800\n",
      "Epoch 37/50\n",
      "1719/1719 [==============================] - 9s 5ms/step - loss: 0.0197 - accuracy: 0.9966 - val_loss: 0.0682 - val_accuracy: 0.9820\n",
      "Epoch 38/50\n",
      "1719/1719 [==============================] - 9s 5ms/step - loss: 0.0183 - accuracy: 0.9970 - val_loss: 0.0664 - val_accuracy: 0.9822\n",
      "Epoch 39/50\n",
      "1719/1719 [==============================] - 9s 5ms/step - loss: 0.0180 - accuracy: 0.9974 - val_loss: 0.0660 - val_accuracy: 0.9822\n",
      "Epoch 40/50\n",
      "1719/1719 [==============================] - 9s 5ms/step - loss: 0.0165 - accuracy: 0.9977 - val_loss: 0.0662 - val_accuracy: 0.9822\n",
      "Epoch 41/50\n",
      "1719/1719 [==============================] - 9s 5ms/step - loss: 0.0155 - accuracy: 0.9975 - val_loss: 0.0669 - val_accuracy: 0.9822\n",
      "Epoch 42/50\n",
      "1719/1719 [==============================] - 9s 5ms/step - loss: 0.0160 - accuracy: 0.9977 - val_loss: 0.0674 - val_accuracy: 0.9820\n",
      "Epoch 43/50\n",
      "1719/1719 [==============================] - 9s 5ms/step - loss: 0.0157 - accuracy: 0.9978 - val_loss: 0.0665 - val_accuracy: 0.9832\n",
      "Epoch 44/50\n",
      "1719/1719 [==============================] - 9s 5ms/step - loss: 0.0140 - accuracy: 0.9981 - val_loss: 0.0666 - val_accuracy: 0.9828\n"
     ]
    }
   ],
   "source": [
    "# Create logs\n",
    "root_logdir = os.path.join(os.curdir+'mnist_logs')\n",
    "def get_run_log():\n",
    "    import time\n",
    "    run_id = time.strftime('run_%Y_%m_%d_%H_%M_%S')\n",
    "    return os.path.join(root_logdir, run_id)\n",
    "# Tensorboard \n",
    "runlog_dir = get_run_log()\n",
    "tensorboard_cb = keras.callbacks.TensorBoard(runlog_dir)\n",
    "# Save by step and introduce early stopping\n",
    "checkpoint_cb = keras.callbacks.ModelCheckpoint('models/checkpoint_model.h5',\n",
    "                                                save_best_only=True)\n",
    "early_stopping_cb = keras.callbacks.EarlyStopping(patience=5,\n",
    "                                                  restore_best_weights=True)\n",
    "history = model.fit(X_train, y_train, epochs=50,\n",
    "                    validation_data=(X_valid, y_valid),\n",
    "                    callbacks=[tensorboard_cb, checkpoint_cb, early_stopping_cb])"
   ]
  },
  {
   "cell_type": "code",
   "execution_count": 9,
   "id": "extra-reward",
   "metadata": {},
   "outputs": [
    {
     "data": {
      "image/png": "[encoded data removed]",
      "text/plain": [
       "<Figure size 576x360 with 1 Axes>"
      ]
     },
     "metadata": {
      "needs_background": "light"
     },
     "output_type": "display_data"
    }
   ],
   "source": [
    "# Plot history\n",
    "pd.DataFrame(history.history).plot(figsize=(8, 5))\n",
    "plt.grid()\n",
    "plt.gca().set_ylim(0,1)\n",
    "plt.show()"
   ]
  },
  {
   "cell_type": "code",
   "execution_count": 10,
   "id": "precious-image",
   "metadata": {},
   "outputs": [
    {
     "name": "stdout",
     "output_type": "stream",
     "text": [
      "313/313 [==============================] - 1s 4ms/step - loss: 0.0660 - accuracy: 0.9799\n"
     ]
    },
    {
     "data": {
      "text/plain": [
       "[0.06599307060241699, 0.9799000024795532]"
      ]
     },
     "execution_count": 10,
     "metadata": {},
     "output_type": "execute_result"
    }
   ],
   "source": [
    "model.evaluate(X_test, y_test)"
   ]
  },
  {
   "cell_type": "code",
   "execution_count": 11,
   "id": "composite-platform",
   "metadata": {},
   "outputs": [
    {
     "data": {
      "text/plain": [
       "array([[0., 0., 0., 0., 0., 0., 0., 1., 0., 0.],\n",
       "       [0., 0., 1., 0., 0., 0., 0., 0., 0., 0.],\n",
       "       [0., 1., 0., 0., 0., 0., 0., 0., 0., 0.]], dtype=float32)"
      ]
     },
     "execution_count": 11,
     "metadata": {},
     "output_type": "execute_result"
    }
   ],
   "source": [
    "X_sample = X_test[:3]\n",
    "y_prob = model.predict(X_sample)\n",
    "y_prob.round(2)"
   ]
  },
  {
   "cell_type": "code",
   "execution_count": 12,
   "id": "informal-promise",
   "metadata": {},
   "outputs": [
    {
     "data": {
      "text/plain": [
       "array([7, 2, 1], dtype=int64)"
      ]
     },
     "execution_count": 12,
     "metadata": {},
     "output_type": "execute_result"
    }
   ],
   "source": [
    "y_pred = np.argmax(model.predict(X_sample), axis=-1)\n",
    "y_pred"
   ]
  },
  {
   "cell_type": "code",
   "execution_count": 13,
   "id": "tough-connecticut",
   "metadata": {},
   "outputs": [
    {
     "data": {
      "image/png": "[encoded data removed]",
      "text/plain": [
       "<Figure size 518.4x172.8 with 3 Axes>"
      ]
     },
     "metadata": {
      "needs_background": "light"
     },
     "output_type": "display_data"
    }
   ],
   "source": [
    "plt.figure(figsize=(7.2, 2.4))\n",
    "for index, image in enumerate(X_sample):\n",
    "    plt.subplot(1, 3, index + 1)\n",
    "    plt.imshow(image, cmap=\"binary\", interpolation=\"nearest\")\n",
    "    plt.axis('off')\n",
    "    plt.title(class_names[y_test[index]], fontsize=12)\n",
    "plt.subplots_adjust(wspace=0.2, hspace=0.5)\n",
    "plt.show()"
   ]
  },
  {
   "cell_type": "code",
   "execution_count": 15,
   "id": "opponent-satisfaction",
   "metadata": {},
   "outputs": [],
   "source": [
    "model.save('models/98%.h5')"
   ]
  },
  {
   "cell_type": "code",
   "execution_count": null,
   "id": "alien-methodology",
   "metadata": {},
   "outputs": [],
   "source": []
  }
 ],
 "metadata": {
  "kernelspec": {
   "display_name": "Python 3",
   "language": "python",
   "name": "python3"
  },
  "language_info": {
   "codemirror_mode": {
    "name": "ipython",
    "version": 3
   },
   "file_extension": ".py",
   "mimetype": "text/x-python",
   "name": "python",
   "nbconvert_exporter": "python",
   "pygments_lexer": "ipython3",
   "version": "3.7.1"
  }
 },
 "nbformat": 4,
 "nbformat_minor": 5
}
