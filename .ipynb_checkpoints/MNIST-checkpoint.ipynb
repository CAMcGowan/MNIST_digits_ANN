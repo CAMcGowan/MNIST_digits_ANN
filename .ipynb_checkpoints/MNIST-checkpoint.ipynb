{
 "cells": [
  {
   "cell_type": "code",
   "execution_count": 1,
   "id": "impossible-charger",
   "metadata": {},
   "outputs": [],
   "source": [
    "import tensorflow as tf\n",
    "from tensorflow import keras\n",
    "import pandas as pd\n",
    "import numpy as np\n",
    "import matplotlib.pyplot as plt\n",
    "import os\n",
    "import time\n",
    "from funcools import partial"
   ]
  },
  {
   "cell_type": "markdown",
   "id": "normal-future",
   "metadata": {},
   "source": [
    "## Load and inspect data"
   ]
  },
  {
   "cell_type": "code",
   "execution_count": 2,
   "id": "interior-infection",
   "metadata": {},
   "outputs": [
    {
     "name": "stdout",
     "output_type": "stream",
     "text": [
      "X_train shape: (60000, 28, 28)\n",
      "X_train dtype: uint8\n",
      "X_train max: 255 \n",
      "X_train min: 0\n"
     ]
    }
   ],
   "source": [
    "mnist = keras.datasets.mnist\n",
    "(X_train_full, y_train_full), (X_test, y_test) = mnist.load_data()\n",
    "print('X_train shape:', X_train_full.shape)\n",
    "print('X_train dtype:', X_train_full.dtype)\n",
    "print('X_train max:', X_train_full.max(), '\\nX_train min:', X_train_full.min())"
   ]
  },
  {
   "cell_type": "code",
   "execution_count": 3,
   "id": "biological-capitol",
   "metadata": {},
   "outputs": [
    {
     "data": {
      "image/png": "[encoded data removed]",
      "text/plain": [
       "<Figure size 518.4x172.8 with 9 Axes>"
      ]
     },
     "metadata": {
      "needs_background": "light"
     },
     "output_type": "display_data"
    },
    {
     "name": "stdout",
     "output_type": "stream",
     "text": [
      "y values: [5 0 4 1 9 2 1 3 1]\n"
     ]
    }
   ],
   "source": [
    "X_new = X_train_full[:9]\n",
    "# Image representations of first 9 digits\n",
    "plt.figure(figsize=(7.2, 2.4))\n",
    "for index, image in enumerate(X_new):\n",
    "    plt.subplot(3, 3, index + 1)\n",
    "    plt.imshow(image, cmap=\"binary\", interpolation=\"nearest\")\n",
    "    plt.axis('off')\n",
    "plt.subplots_adjust(wspace=0.2, hspace=0.5)\n",
    "plt.show()\n",
    "\n",
    "# Corrosponding y vals\n",
    "print('y values:',y_train_full[:9])"
   ]
  },
  {
   "cell_type": "code",
   "execution_count": 4,
   "id": "roman-twelve",
   "metadata": {},
   "outputs": [],
   "source": [
    "# Define the classes\n",
    "class_names = ['0', '1', '2', '3', '4', '5', '6', '7', '8', '9']\n",
    "\n",
    "# Split train and valid\n",
    "X_valid, X_train = X_train_full[:5000]/255, X_train_full[5000:]/255\n",
    "y_valid, y_train = y_train_full[:5000], y_train_full[5000:]\n",
    "X_test = X_test/255"
   ]
  },
  {
   "cell_type": "markdown",
   "id": "assisted-testimony",
   "metadata": {},
   "source": [
    "## Model"
   ]
  },
  {
   "cell_type": "code",
   "execution_count": 5,
   "id": "ultimate-secretariat",
   "metadata": {},
   "outputs": [
    {
     "name": "stdout",
     "output_type": "stream",
     "text": [
      "Model: \"sequential\"\n",
      "_________________________________________________________________\n",
      "Layer (type)                 Output Shape              Param #   \n",
      "=================================================================\n",
      "flatten (Flatten)            (None, 784)               0         \n",
      "_________________________________________________________________\n",
      "dense (Dense)                (None, 300)               235500    \n",
      "_________________________________________________________________\n",
      "batch_normalization (BatchNo (None, 300)               1200      \n",
      "_________________________________________________________________\n",
      "dense_1 (Dense)              (None, 300)               90300     \n",
      "_________________________________________________________________\n",
      "batch_normalization_1 (Batch (None, 300)               1200      \n",
      "_________________________________________________________________\n",
      "dense_2 (Dense)              (None, 300)               90300     \n",
      "_________________________________________________________________\n",
      "batch_normalization_2 (Batch (None, 300)               1200      \n",
      "_________________________________________________________________\n",
      "dense_3 (Dense)              (None, 10)                3010      \n",
      "=================================================================\n",
      "Total params: 422,710\n",
      "Trainable params: 420,910\n",
      "Non-trainable params: 1,800\n",
      "_________________________________________________________________\n"
     ]
    }
   ],
   "source": [
    "RegularisedDense = partial(keras.layers.Dense,\n",
    "                           activation='relu',\n",
    "                           kernel_initalizer='he_normal', \n",
    "                           kernel_regularizer=keras.regularizers.l2(0.01))\n",
    "\n",
    "# Create a sequenial model\n",
    "model = keras.models.Sequential([\n",
    "    # Input layer\n",
    "    keras.layers.Flatten(input_shape=[28,28]),\n",
    "    # Hidden layers\n",
    "    RegularisedDense(300),\n",
    "    keras.layers.BatchNormalization(),\n",
    "    RegularisedDense(300),\n",
    "    keras.layers.BatchNormalization(),\n",
    "    # Output layer\n",
    "    keras.layers.Dense(10, activation='softmax')\n",
    "    ])\n",
    "model.summary()   "
   ]
  },
  {
   "cell_type": "code",
   "execution_count": 6,
   "id": "olive-hormone",
   "metadata": {},
   "outputs": [],
   "source": [
    "# Compile\n",
    "model.compile(loss='sparse_categorical_crossentropy',\n",
    "              optimizer=keras.optimizers.SGD(lr=0.01, momentum = 0.9, decay=1e-4),\n",
    "              metrics='accuracy')"
   ]
  },
  {
   "cell_type": "code",
   "execution_count": 7,
   "id": "imported-brother",
   "metadata": {
    "scrolled": false
   },
   "outputs": [
    {
     "name": "stdout",
     "output_type": "stream",
     "text": [
      "Epoch 1/50\n",
      "1719/1719 [==============================] - 26s 14ms/step - loss: 0.3508 - accuracy: 0.8934 - val_loss: 0.1067 - val_accuracy: 0.9680\n",
      "Epoch 2/50\n",
      "1719/1719 [==============================] - 23s 14ms/step - loss: 0.1038 - accuracy: 0.9678 - val_loss: 0.0782 - val_accuracy: 0.9792\n",
      "Epoch 3/50\n",
      "1719/1719 [==============================] - 24s 14ms/step - loss: 0.0679 - accuracy: 0.9779 - val_loss: 0.0691 - val_accuracy: 0.9822\n",
      "Epoch 4/50\n",
      "1719/1719 [==============================] - 24s 14ms/step - loss: 0.0494 - accuracy: 0.9842 - val_loss: 0.0633 - val_accuracy: 0.9818\n",
      "Epoch 5/50\n",
      "1719/1719 [==============================] - 23s 14ms/step - loss: 0.0380 - accuracy: 0.9877 - val_loss: 0.0628 - val_accuracy: 0.9832\n",
      "Epoch 6/50\n",
      "1719/1719 [==============================] - 23s 14ms/step - loss: 0.0297 - accuracy: 0.9906 - val_loss: 0.0642 - val_accuracy: 0.9848\n",
      "Epoch 7/50\n",
      "1719/1719 [==============================] - 23s 14ms/step - loss: 0.0201 - accuracy: 0.9939 - val_loss: 0.0571 - val_accuracy: 0.9852\n",
      "Epoch 8/50\n",
      "1719/1719 [==============================] - 23s 14ms/step - loss: 0.0159 - accuracy: 0.9956 - val_loss: 0.0585 - val_accuracy: 0.9858\n",
      "Epoch 9/50\n",
      "1719/1719 [==============================] - 23s 13ms/step - loss: 0.0154 - accuracy: 0.9951 - val_loss: 0.0533 - val_accuracy: 0.9868\n",
      "Epoch 10/50\n",
      "1719/1719 [==============================] - 23s 13ms/step - loss: 0.0122 - accuracy: 0.9965 - val_loss: 0.0540 - val_accuracy: 0.9874\n",
      "Epoch 11/50\n",
      "1719/1719 [==============================] - 23s 13ms/step - loss: 0.0090 - accuracy: 0.9976 - val_loss: 0.0560 - val_accuracy: 0.9872\n",
      "Epoch 12/50\n",
      "1719/1719 [==============================] - 23s 13ms/step - loss: 0.0086 - accuracy: 0.9978 - val_loss: 0.0577 - val_accuracy: 0.9846\n",
      "Epoch 13/50\n",
      "1719/1719 [==============================] - 23s 14ms/step - loss: 0.0080 - accuracy: 0.9978 - val_loss: 0.0591 - val_accuracy: 0.9864\n",
      "Epoch 14/50\n",
      "1719/1719 [==============================] - 24s 14ms/step - loss: 0.0071 - accuracy: 0.9979 - val_loss: 0.0597 - val_accuracy: 0.9854\n"
     ]
    }
   ],
   "source": [
    "# Create logs\n",
    "root_logdir = os.path.join(os.curdir+'mnist_logs')\n",
    "def get_run_log():\n",
    "    import time\n",
    "    run_id = time.strftime('run_%Y_%m_%d_%H_%M_%S')\n",
    "    return os.path.join(root_logdir, run_id)\n",
    "# Tensorboard \n",
    "runlog_dir = get_run_log()\n",
    "tensorboard_cb = keras.callbacks.TensorBoard(runlog_dir)\n",
    "# Save by step and introduce early stopping\n",
    "checkpoint_cb = keras.callbacks.ModelCheckpoint('models/checkpoint_model.h5',\n",
    "                                                save_best_only=True)\n",
    "early_stopping_cb = keras.callbacks.EarlyStopping(patience=5,\n",
    "                                                  restore_best_weights=True)\n",
    "history = model.fit(X_train, y_train, epochs=50,\n",
    "                    validation_data=(X_valid, y_valid),\n",
    "                    callbacks=[tensorboard_cb, checkpoint_cb, early_stopping_cb])"
   ]
  },
  {
   "cell_type": "code",
   "execution_count": 8,
   "id": "extra-reward",
   "metadata": {},
   "outputs": [
    {
     "data": {
      "image/png": "[encoded data removed]",
      "text/plain": [
       "<Figure size 576x360 with 1 Axes>"
      ]
     },
     "metadata": {
      "needs_background": "light"
     },
     "output_type": "display_data"
    }
   ],
   "source": [
    "# Plot history\n",
    "pd.DataFrame(history.history).plot(figsize=(8, 5))\n",
    "plt.grid()\n",
    "plt.gca().set_ylim(0,1)\n",
    "plt.show()"
   ]
  },
  {
   "cell_type": "code",
   "execution_count": 9,
   "id": "precious-image",
   "metadata": {},
   "outputs": [
    {
     "name": "stdout",
     "output_type": "stream",
     "text": [
      "313/313 [==============================] - 2s 5ms/step - loss: 0.0550 - accuracy: 0.9842\n"
     ]
    },
    {
     "data": {
      "text/plain": [
       "[0.054955676198005676, 0.9842000007629395]"
      ]
     },
     "execution_count": 9,
     "metadata": {},
     "output_type": "execute_result"
    }
   ],
   "source": [
    "model.evaluate(X_test, y_test)"
   ]
  },
  {
   "cell_type": "code",
   "execution_count": 10,
   "id": "composite-platform",
   "metadata": {},
   "outputs": [
    {
     "data": {
      "text/plain": [
       "array([[0., 0., 0., 0., 0., 0., 0., 1., 0., 0.],\n",
       "       [0., 0., 1., 0., 0., 0., 0., 0., 0., 0.],\n",
       "       [0., 1., 0., 0., 0., 0., 0., 0., 0., 0.]], dtype=float32)"
      ]
     },
     "execution_count": 10,
     "metadata": {},
     "output_type": "execute_result"
    }
   ],
   "source": [
    "X_sample = X_test[:3]\n",
    "y_prob = model.predict(X_sample)\n",
    "y_prob.round(2)"
   ]
  },
  {
   "cell_type": "code",
   "execution_count": 11,
   "id": "informal-promise",
   "metadata": {},
   "outputs": [
    {
     "data": {
      "text/plain": [
       "array([7, 2, 1], dtype=int64)"
      ]
     },
     "execution_count": 11,
     "metadata": {},
     "output_type": "execute_result"
    }
   ],
   "source": [
    "y_pred = np.argmax(model.predict(X_sample), axis=-1)\n",
    "y_pred"
   ]
  },
  {
   "cell_type": "code",
   "execution_count": 12,
   "id": "tough-connecticut",
   "metadata": {},
   "outputs": [
    {
     "data": {
      "image/png": "[encoded data removed]",
      "text/plain": [
       "<Figure size 518.4x172.8 with 3 Axes>"
      ]
     },
     "metadata": {
      "needs_background": "light"
     },
     "output_type": "display_data"
    }
   ],
   "source": [
    "plt.figure(figsize=(7.2, 2.4))\n",
    "for index, image in enumerate(X_sample):\n",
    "    plt.subplot(1, 3, index + 1)\n",
    "    plt.imshow(image, cmap=\"binary\", interpolation=\"nearest\")\n",
    "    plt.axis('off')\n",
    "    plt.title(class_names[y_test[index]], fontsize=12)\n",
    "plt.subplots_adjust(wspace=0.2, hspace=0.5)\n",
    "plt.show()"
   ]
  },
  {
   "cell_type": "code",
   "execution_count": 13,
   "id": "opponent-satisfaction",
   "metadata": {},
   "outputs": [],
   "source": [
    "model.save('models/98%.h5')"
   ]
  },
  {
   "cell_type": "code",
   "execution_count": null,
   "id": "alien-methodology",
   "metadata": {},
   "outputs": [],
   "source": []
  }
 ],
 "metadata": {
  "kernelspec": {
   "display_name": "Python 3",
   "language": "python",
   "name": "python3"
  },
  "language_info": {
   "codemirror_mode": {
    "name": "ipython",
    "version": 3
   },
   "file_extension": ".py",
   "mimetype": "text/x-python",
   "name": "python",
   "nbconvert_exporter": "python",
   "pygments_lexer": "ipython3",
   "version": "3.7.1"
  }
 },
 "nbformat": 4,
 "nbformat_minor": 5
}
